{
 "cells": [
  {
   "cell_type": "code",
   "execution_count": null,
   "id": "96c2e1af",
   "metadata": {},
   "outputs": [
    {
     "name": "stdout",
     "output_type": "stream",
     "text": [
      "Enter text (or 'exit' to quit): love\n",
      "Text representation for 'love':  😍\n"
     ]
    }
   ],
   "source": [
    "#Code for text to emoji conversion:\n",
    "def load_emoji_to_text_mapping(filename):\n",
    "    emoji_to_text_mapping = {}\n",
    "    try:\n",
    "        with open(filename, 'r', encoding='utf-8') as file:\n",
    "            for line in file:\n",
    "                emoji, text = line.strip().split(':')\n",
    "                emoji_to_text_mapping[emoji] = text\n",
    "    except FileNotFoundError:\n",
    "        print(f\"File '{filename}' not found.\")\n",
    "    return emoji_to_text_mapping\n",
    "\n",
    "emoji_to_text_dict = load_emoji_to_text_mapping('text_to_emoji.txt')\n",
    "\n",
    "def text_to_emoji(emoji):\n",
    "    if emoji in emoji_to_text_dict:\n",
    "        return emoji_to_text_dict[emoji]\n",
    "    else:\n",
    "        return \"Unknown emoji\"\n",
    "    \n",
    "while True:\n",
    "    user_emoji = input(\"Enter text (or 'exit' to quit): \")\n",
    "    \n",
    "    if user_emoji == 'exit':\n",
    "        print(\"Exiting the program.\")\n",
    "        break\n",
    "\n",
    "    text_representation =text_to_emoji(user_emoji)\n",
    "    print(f\"Text representation for '{user_emoji}': {text_representation}\")\n"
   ]
  },
  {
   "cell_type": "code",
   "execution_count": null,
   "id": "c85ffe8e",
   "metadata": {},
   "outputs": [],
   "source": []
  }
 ],
 "metadata": {
  "kernelspec": {
   "display_name": "Python 3 (ipykernel)",
   "language": "python",
   "name": "python3"
  },
  "language_info": {
   "codemirror_mode": {
    "name": "ipython",
    "version": 3
   },
   "file_extension": ".py",
   "mimetype": "text/x-python",
   "name": "python",
   "nbconvert_exporter": "python",
   "pygments_lexer": "ipython3",
   "version": "3.11.5"
  }
 },
 "nbformat": 4,
 "nbformat_minor": 5
}
