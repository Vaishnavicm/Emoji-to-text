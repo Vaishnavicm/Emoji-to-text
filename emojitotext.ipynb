{
 "cells": [
  {
   "cell_type": "code",
   "execution_count": null,
   "id": "c6ff0508",
   "metadata": {},
   "outputs": [
    {
     "name": "stdout",
     "output_type": "stream",
     "text": [
      "Enter emoji (or 'exit' to quit): 😀\n",
      "Emoji representation for '😀': smile\n"
     ]
    }
   ],
   "source": [
    "#Code for emoji to text conversion:\n",
    "def load_text_to_emoji_mapping(filename):\n",
    "    text_to_emoji_mapping = {}\n",
    "    try:\n",
    "        with open(filename, 'r', encoding='utf-8') as file:\n",
    "            for line in file:\n",
    "                text, emoji = line.strip().split(':')\n",
    "                text_to_emoji_mapping[text] = emoji\n",
    "    except FileNotFoundError:\n",
    "        print(f\"File '{filename}' not found.\")\n",
    "    return text_to_emoji_mapping\n",
    "\n",
    "text_to_emoji_dict = load_text_to_emoji_mapping('emoji_to_text1.txt')\n",
    "\n",
    "def emoji_to_text(text):\n",
    "    if text in text_to_emoji_dict:\n",
    "        return text_to_emoji_dict[text]\n",
    "    else:\n",
    "        return \"Unknown text\"\n",
    "\n",
    "while True:\n",
    "    user_text = input(\"Enter emoji (or 'exit' to quit): \")\n",
    "    \n",
    "    if user_text == 'exit':\n",
    "        print(\"Exiting the program.\")\n",
    "        break\n",
    "    \n",
    "    emoji_representation = emoji_to_text(user_text)\n",
    "    print(f\"Emoji representation for '{user_text}': {emoji_representation}\")\n",
    "\n"
   ]
  },
  {
   "cell_type": "code",
   "execution_count": null,
   "id": "91896b93",
   "metadata": {},
   "outputs": [],
   "source": []
  }
 ],
 "metadata": {
  "kernelspec": {
   "display_name": "Python 3 (ipykernel)",
   "language": "python",
   "name": "python3"
  },
  "language_info": {
   "codemirror_mode": {
    "name": "ipython",
    "version": 3
   },
   "file_extension": ".py",
   "mimetype": "text/x-python",
   "name": "python",
   "nbconvert_exporter": "python",
   "pygments_lexer": "ipython3",
   "version": "3.11.5"
  }
 },
 "nbformat": 4,
 "nbformat_minor": 5
}
